{
  "nbformat": 4,
  "nbformat_minor": 0,
  "metadata": {
    "colab": {
      "provenance": []
    },
    "kernelspec": {
      "name": "python3",
      "display_name": "Python 3"
    },
    "language_info": {
      "name": "python"
    }
  },
  "cells": [
    {
      "cell_type": "markdown",
      "source": [
        "# **Nano Programming Language BY: LBG 🙂**\n",
        "\n"
      ],
      "metadata": {
        "id": "qxblfJjkTg1B"
      }
    },
    {
      "cell_type": "markdown",
      "source": [
        "# **Important Setup ❗️❗️**"
      ],
      "metadata": {
        "id": "x3_3nhr6Q5i3"
      }
    },
    {
      "cell_type": "code",
      "execution_count": null,
      "metadata": {
        "id": "mTJIu3SZLVzB"
      },
      "outputs": [],
      "source": [
        "!git clone https://github.com/LastBreathGamerLBG/NanoLanguage.git\n",
        "!pip install grpcio==1.60.1"
      ]
    },
    {
      "cell_type": "markdown",
      "source": [
        "# **Permissions 🔑**"
      ],
      "metadata": {
        "id": "MWMoQfI0R2Pb"
      }
    },
    {
      "cell_type": "code",
      "source": [
        "%cd NanoLanguage\n",
        "%cd Core\n",
        "!chmod +x *"
      ],
      "metadata": {
        "id": "me1G3RwQOboI"
      },
      "execution_count": null,
      "outputs": []
    },
    {
      "cell_type": "markdown",
      "source": [
        "# **Setting Up Nano Language 💯**"
      ],
      "metadata": {
        "id": "pG9AI5jESO9u"
      }
    },
    {
      "cell_type": "code",
      "source": [
        "!./yoyo.sh setup nano"
      ],
      "metadata": {
        "id": "crB58fzGOhZY"
      },
      "execution_count": null,
      "outputs": []
    },
    {
      "cell_type": "markdown",
      "source": [
        "# **Ready To USE ✅**"
      ],
      "metadata": {
        "id": "0D6BJhjlSbKP"
      }
    },
    {
      "cell_type": "code",
      "source": [
        "#!./nano.sh <file_name_here>\n",
        "\n",
        "!./nano.sh table.nano"
      ],
      "metadata": {
        "id": "bLKJaMUYQL0g"
      },
      "execution_count": null,
      "outputs": []
    }
  ]
}